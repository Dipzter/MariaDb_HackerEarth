{
 "cells": [
  {
   "cell_type": "code",
   "execution_count": 1,
   "id": "e95e5dc5",
   "metadata": {},
   "outputs": [],
   "source": [
    "import mariadb\n",
    "import sys"
   ]
  },
  {
   "cell_type": "code",
   "execution_count": 2,
   "id": "f21b3e41",
   "metadata": {},
   "outputs": [],
   "source": [
    "config = {\n",
    "    'user' : 'root',\n",
    "    'password' : '$Dipankar917',\n",
    "    'host' : 'localhost',\n",
    "    'port' : 3306,\n",
    "    'database' : 'hackathon_demo'\n",
    "}"
   ]
  },
  {
   "cell_type": "code",
   "execution_count": 3,
   "id": "67c52a21",
   "metadata": {},
   "outputs": [],
   "source": [
    "def get_connection():\n",
    "    try:\n",
    "        conn = mariadb.connect(**config)\n",
    "        return conn\n",
    "    except mariadb.Error as e:\n",
    "        print(f\"Error connecting to MariaDB Platform: {e}\")\n",
    "        sys.exit(1)\n",
    "        "
   ]
  },
  {
   "cell_type": "code",
   "execution_count": 4,
   "id": "559dcab6",
   "metadata": {},
   "outputs": [
    {
     "name": "stdout",
     "output_type": "stream",
     "text": [
      "Connection successful!\n"
     ]
    }
   ],
   "source": [
    "if __name__ == \"__main__\":\n",
    "    connection = get_connection()\n",
    "    print(\"Connection successful!\")\n",
    "    connection.close()"
   ]
  }
 ],
 "metadata": {
  "kernelspec": {
   "display_name": "Python 3",
   "language": "python",
   "name": "python3"
  },
  "language_info": {
   "codemirror_mode": {
    "name": "ipython",
    "version": 3
   },
   "file_extension": ".py",
   "mimetype": "text/x-python",
   "name": "python",
   "nbconvert_exporter": "python",
   "pygments_lexer": "ipython3",
   "version": "3.13.5"
  }
 },
 "nbformat": 4,
 "nbformat_minor": 5
}
